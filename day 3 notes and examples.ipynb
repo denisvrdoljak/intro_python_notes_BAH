{
 "cells": [
  {
   "cell_type": "code",
   "execution_count": 1,
   "metadata": {},
   "outputs": [
    {
     "name": "stdout",
     "output_type": "stream",
     "text": [
      "hello world\n"
     ]
    }
   ],
   "source": [
    "print(\"hello world\")"
   ]
  },
  {
   "cell_type": "code",
   "execution_count": 2,
   "metadata": {},
   "outputs": [
    {
     "name": "stdout",
     "output_type": "stream",
     "text": [
      "hello world,"
     ]
    }
   ],
   "source": [
    "print(\"hello world\",end=',')"
   ]
  },
  {
   "cell_type": "code",
   "execution_count": 3,
   "metadata": {},
   "outputs": [
    {
     "name": "stdout",
     "output_type": "stream",
     "text": [
      "hello world\n"
     ]
    }
   ],
   "source": [
    "functionreturn = print(\"hello world\")"
   ]
  },
  {
   "cell_type": "code",
   "execution_count": 4,
   "metadata": {},
   "outputs": [],
   "source": [
    "functionreturn"
   ]
  },
  {
   "cell_type": "code",
   "execution_count": 7,
   "metadata": {},
   "outputs": [
    {
     "name": "stdout",
     "output_type": "stream",
     "text": [
      "enter some text: asdf\n"
     ]
    }
   ],
   "source": [
    "functionreturn = input(\"enter some text: \")"
   ]
  },
  {
   "cell_type": "code",
   "execution_count": 8,
   "metadata": {},
   "outputs": [
    {
     "data": {
      "text/plain": [
       "'asdf'"
      ]
     },
     "execution_count": 8,
     "metadata": {},
     "output_type": "execute_result"
    }
   ],
   "source": [
    "functionreturn"
   ]
  },
  {
   "cell_type": "code",
   "execution_count": 9,
   "metadata": {},
   "outputs": [],
   "source": [
    "def myfunction():\n",
    "    pass"
   ]
  },
  {
   "cell_type": "code",
   "execution_count": 10,
   "metadata": {},
   "outputs": [
    {
     "data": {
      "text/plain": [
       "<function __main__.myfunction()>"
      ]
     },
     "execution_count": 10,
     "metadata": {},
     "output_type": "execute_result"
    }
   ],
   "source": [
    "myfunction"
   ]
  },
  {
   "cell_type": "code",
   "execution_count": 11,
   "metadata": {},
   "outputs": [],
   "source": [
    "myfunction()"
   ]
  },
  {
   "cell_type": "code",
   "execution_count": 13,
   "metadata": {},
   "outputs": [
    {
     "name": "stdout",
     "output_type": "stream",
     "text": [
      "Help on built-in function print in module builtins:\n",
      "\n",
      "print(...)\n",
      "    print(value, ..., sep=' ', end='\\n', file=sys.stdout, flush=False)\n",
      "    \n",
      "    Prints the values to a stream, or to sys.stdout by default.\n",
      "    Optional keyword arguments:\n",
      "    file:  a file-like object (stream); defaults to the current sys.stdout.\n",
      "    sep:   string inserted between values, default a space.\n",
      "    end:   string appended after the last value, default a newline.\n",
      "    flush: whether to forcibly flush the stream.\n",
      "\n"
     ]
    }
   ],
   "source": [
    "help(print)"
   ]
  },
  {
   "cell_type": "code",
   "execution_count": 14,
   "metadata": {},
   "outputs": [],
   "source": [
    "def myfunction():\n",
    "    \"\"\"\n",
    "    Help info on myfunction.\n",
    "    Currently, no inputs defined, no return.\n",
    "    \"\"\"\n",
    "    pass"
   ]
  },
  {
   "cell_type": "code",
   "execution_count": 16,
   "metadata": {},
   "outputs": [
    {
     "name": "stdout",
     "output_type": "stream",
     "text": [
      "Help on function myfunction in module __main__:\n",
      "\n",
      "myfunction()\n",
      "    Help info on myfunction.\n",
      "    Currently, no inputs defined, no return.\n",
      "\n"
     ]
    }
   ],
   "source": [
    "help(myfunction)"
   ]
  },
  {
   "cell_type": "code",
   "execution_count": null,
   "metadata": {},
   "outputs": [],
   "source": [
    "this_is_snakecase # no caps on first letter for function definitions\n",
    "This_is_snakecase # first letter caps reserved for classes\n",
    "\n",
    "thisIsCamelCase"
   ]
  },
  {
   "cell_type": "code",
   "execution_count": null,
   "metadata": {},
   "outputs": [],
   "source": [
    "def myfunction():\n",
    "    pass\n",
    "# main code here\n",
    "# can only use function after defining it"
   ]
  },
  {
   "cell_type": "code",
   "execution_count": null,
   "metadata": {},
   "outputs": [],
   "source": []
  },
  {
   "cell_type": "code",
   "execution_count": 17,
   "metadata": {},
   "outputs": [],
   "source": [
    "def mysquare(input_number):\n",
    "    squared_number = input_number**2\n",
    "    return squared_number"
   ]
  },
  {
   "cell_type": "code",
   "execution_count": 18,
   "metadata": {},
   "outputs": [
    {
     "data": {
      "text/plain": [
       "4"
      ]
     },
     "execution_count": 18,
     "metadata": {},
     "output_type": "execute_result"
    }
   ],
   "source": [
    "mysquare(2)"
   ]
  },
  {
   "cell_type": "code",
   "execution_count": 23,
   "metadata": {},
   "outputs": [],
   "source": [
    "functionreturn = mysquare(2)"
   ]
  },
  {
   "cell_type": "code",
   "execution_count": 24,
   "metadata": {},
   "outputs": [
    {
     "data": {
      "text/plain": [
       "4"
      ]
     },
     "execution_count": 24,
     "metadata": {},
     "output_type": "execute_result"
    }
   ],
   "source": [
    "functionreturn"
   ]
  },
  {
   "cell_type": "code",
   "execution_count": 25,
   "metadata": {},
   "outputs": [
    {
     "data": {
      "text/plain": [
       "4.0"
      ]
     },
     "execution_count": 25,
     "metadata": {},
     "output_type": "execute_result"
    }
   ],
   "source": [
    "mysquare(2.0)"
   ]
  },
  {
   "cell_type": "code",
   "execution_count": 26,
   "metadata": {},
   "outputs": [
    {
     "ename": "TypeError",
     "evalue": "unsupported operand type(s) for ** or pow(): 'str' and 'int'",
     "output_type": "error",
     "traceback": [
      "\u001b[0;31m---------------------------------------------------------------------------\u001b[0m",
      "\u001b[0;31mTypeError\u001b[0m                                 Traceback (most recent call last)",
      "\u001b[0;32m<ipython-input-26-811c779b8cd4>\u001b[0m in \u001b[0;36m<module>\u001b[0;34m\u001b[0m\n\u001b[0;32m----> 1\u001b[0;31m \u001b[0mmysquare\u001b[0m\u001b[0;34m(\u001b[0m\u001b[0;34m'2'\u001b[0m\u001b[0;34m)\u001b[0m\u001b[0;34m\u001b[0m\u001b[0;34m\u001b[0m\u001b[0m\n\u001b[0m",
      "\u001b[0;32m<ipython-input-17-aeeeb1f4e4fa>\u001b[0m in \u001b[0;36mmysquare\u001b[0;34m(input_number)\u001b[0m\n\u001b[1;32m      1\u001b[0m \u001b[0;32mdef\u001b[0m \u001b[0mmysquare\u001b[0m\u001b[0;34m(\u001b[0m\u001b[0minput_number\u001b[0m\u001b[0;34m)\u001b[0m\u001b[0;34m:\u001b[0m\u001b[0;34m\u001b[0m\u001b[0;34m\u001b[0m\u001b[0m\n\u001b[0;32m----> 2\u001b[0;31m     \u001b[0msquared_number\u001b[0m \u001b[0;34m=\u001b[0m \u001b[0minput_number\u001b[0m\u001b[0;34m**\u001b[0m\u001b[0;36m2\u001b[0m\u001b[0;34m\u001b[0m\u001b[0;34m\u001b[0m\u001b[0m\n\u001b[0m\u001b[1;32m      3\u001b[0m     \u001b[0;32mreturn\u001b[0m \u001b[0msquared_number\u001b[0m\u001b[0;34m\u001b[0m\u001b[0;34m\u001b[0m\u001b[0m\n",
      "\u001b[0;31mTypeError\u001b[0m: unsupported operand type(s) for ** or pow(): 'str' and 'int'"
     ]
    }
   ],
   "source": [
    "mysquare('2')"
   ]
  },
  {
   "cell_type": "code",
   "execution_count": 34,
   "metadata": {},
   "outputs": [],
   "source": [
    "def bad_extend_list_function(mylist):\n",
    "    mylist.append(4)\n",
    "    return mylist"
   ]
  },
  {
   "cell_type": "code",
   "execution_count": 29,
   "metadata": {},
   "outputs": [],
   "source": [
    "somelist = [1,2,3,4]\n",
    "newlist = bad_extend_list_function(somelist)"
   ]
  },
  {
   "cell_type": "code",
   "execution_count": 30,
   "metadata": {},
   "outputs": [
    {
     "data": {
      "text/plain": [
       "[1, 2, 3, 4, 4]"
      ]
     },
     "execution_count": 30,
     "metadata": {},
     "output_type": "execute_result"
    }
   ],
   "source": [
    "newlist"
   ]
  },
  {
   "cell_type": "code",
   "execution_count": 31,
   "metadata": {},
   "outputs": [
    {
     "data": {
      "text/plain": [
       "[1, 2, 3, 4, 4]"
      ]
     },
     "execution_count": 31,
     "metadata": {},
     "output_type": "execute_result"
    }
   ],
   "source": [
    "somelist"
   ]
  },
  {
   "cell_type": "code",
   "execution_count": 35,
   "metadata": {},
   "outputs": [],
   "source": [
    "def good_extend_list_function(mylist):\n",
    "    output_list = mylist.copy()\n",
    "    output_list.append(4)\n",
    "    return output_list"
   ]
  },
  {
   "cell_type": "code",
   "execution_count": 36,
   "metadata": {},
   "outputs": [],
   "source": [
    "somelist = [1,2,3,4]\n",
    "newlist = good_extend_list_function(somelist)"
   ]
  },
  {
   "cell_type": "code",
   "execution_count": 37,
   "metadata": {},
   "outputs": [
    {
     "data": {
      "text/plain": [
       "[1, 2, 3, 4, 4]"
      ]
     },
     "execution_count": 37,
     "metadata": {},
     "output_type": "execute_result"
    }
   ],
   "source": [
    "newlist"
   ]
  },
  {
   "cell_type": "code",
   "execution_count": 38,
   "metadata": {},
   "outputs": [
    {
     "data": {
      "text/plain": [
       "[1, 2, 3, 4]"
      ]
     },
     "execution_count": 38,
     "metadata": {},
     "output_type": "execute_result"
    }
   ],
   "source": [
    "somelist"
   ]
  },
  {
   "cell_type": "code",
   "execution_count": null,
   "metadata": {},
   "outputs": [],
   "source": [
    "def good_extend_list_function(mylist):\n",
    "    output_list = mylist.copy()\n",
    "    output_list.append(4)\n",
    "    return output_list\n",
    "\n",
    "mylist = [1,2,3,4]\n",
    "newlist = good_extend_list_function(mylist)"
   ]
  },
  {
   "cell_type": "code",
   "execution_count": 41,
   "metadata": {},
   "outputs": [
    {
     "name": "stdout",
     "output_type": "stream",
     "text": [
      "x (inside mysquares2 function:) 25\n",
      "outside function:\n",
      "x: 5 \n",
      "y 25\n"
     ]
    }
   ],
   "source": [
    "x = 5\n",
    "\n",
    "def mysquare2(x):\n",
    "    x = x**2\n",
    "    print(\"x (inside mysquares2 function:)\",x)\n",
    "    return x\n",
    "\n",
    "y = mysquare2(x)\n",
    "print(\"outside function:\")\n",
    "print('x:',x,'\\ny',y)"
   ]
  },
  {
   "cell_type": "code",
   "execution_count": 42,
   "metadata": {},
   "outputs": [
    {
     "data": {
      "text/plain": [
       "{'__name__': '__main__',\n",
       " '__doc__': 'Automatically created module for IPython interactive environment',\n",
       " '__package__': None,\n",
       " '__loader__': None,\n",
       " '__spec__': None,\n",
       " '__builtin__': <module 'builtins' (built-in)>,\n",
       " '__builtins__': <module 'builtins' (built-in)>,\n",
       " '_ih': ['',\n",
       "  'print(\"hello world\")',\n",
       "  'print(\"hello world\",end=\\',\\')',\n",
       "  'functionreturn = print(\"hello world\")',\n",
       "  'functionreturn',\n",
       "  'print(\"hello world\") input(\"enter some text: \")',\n",
       "  'print(\"hello world\") = input(\"enter some text: \")',\n",
       "  'functionreturn = input(\"enter some text: \")',\n",
       "  'functionreturn',\n",
       "  'def myfunction():\\n    pass',\n",
       "  'myfunction',\n",
       "  'myfunction()',\n",
       "  'help(myfunction)',\n",
       "  'help(print)',\n",
       "  'def myfunction():\\n    \"\"\"\\n    Help info on myfunction.\\n    Currently, no inputs defined, no return.\\n    \"\"\"\\n    pass',\n",
       "  'help(myfunction',\n",
       "  'help(myfunction)',\n",
       "  'def mysquare(input_number):\\n    squared_number = input_number**2\\n    return squared_number',\n",
       "  'mysquare(2)',\n",
       "  'functionoutput = mysquare(2)',\n",
       "  'functionoutput',\n",
       "  'functionreturn = mysquare(2)',\n",
       "  'functionreturn',\n",
       "  'functionreturn = mysquare(2)',\n",
       "  'functionreturn',\n",
       "  'mysquare(2.0)',\n",
       "  \"mysquare('2')\",\n",
       "  'def bad_extend_list_function(mylist):\\n    mylist.append(4)',\n",
       "  'def bad_extend_list_function(mylist):\\n    mylist.append(4)\\n    return mylist',\n",
       "  'somelist = [1,2,3,4]\\nnewlist = bad_extend_list_function(somelist)',\n",
       "  'newlist',\n",
       "  'somelist',\n",
       "  'def bad_extend_list_function(mylist):\\n    output_list = mylist.copy()\\n    output_list.append(4)\\n    return mylist',\n",
       "  'def good_extend_list_function(mylist):\\n    output_list = mylist.copy()\\n    output_list.append(4)\\n    return mylist',\n",
       "  'def bad_extend_list_function(mylist):\\n    mylist.append(4)\\n    return mylist',\n",
       "  'def good_extend_list_function(mylist):\\n    output_list = mylist.copy()\\n    output_list.append(4)\\n    return output_list',\n",
       "  'somelist = [1,2,3,4]\\nnewlist = good_extend_list_function(somelist)',\n",
       "  'newlist',\n",
       "  'somelist',\n",
       "  \"x = 5\\n\\ndef mysquare2(x):\\n    x = x**2\\n    return x\\n\\ny = mysquare2(x)\\nprint('x:',x,'\\\\ny',y)\",\n",
       "  'x = 5\\n\\ndef mysquare2(x):\\n    x = x**2\\n    print(\"x (inside mysquares2 function:)\",x)\\n    return x\\n\\ny = mysquare2(x)\\nprint(\\'x:\\',x,\\'\\\\ny\\',y)',\n",
       "  'x = 5\\n\\ndef mysquare2(x):\\n    x = x**2\\n    print(\"x (inside mysquares2 function:)\",x)\\n    return x\\n\\ny = mysquare2(x)\\nprint(\"outside function:\")\\nprint(\\'x:\\',x,\\'\\\\ny\\',y)',\n",
       "  'globals()'],\n",
       " '_oh': {8: 'asdf',\n",
       "  10: <function __main__.myfunction()>,\n",
       "  18: 4,\n",
       "  20: 4,\n",
       "  22: 4,\n",
       "  24: 4,\n",
       "  25: 4.0,\n",
       "  30: [1, 2, 3, 4, 4],\n",
       "  31: [1, 2, 3, 4, 4],\n",
       "  37: [1, 2, 3, 4, 4],\n",
       "  38: [1, 2, 3, 4]},\n",
       " '_dh': ['/Users/denisvrdoljak/Downloads/intro_python_notes_BAH'],\n",
       " 'In': ['',\n",
       "  'print(\"hello world\")',\n",
       "  'print(\"hello world\",end=\\',\\')',\n",
       "  'functionreturn = print(\"hello world\")',\n",
       "  'functionreturn',\n",
       "  'print(\"hello world\") input(\"enter some text: \")',\n",
       "  'print(\"hello world\") = input(\"enter some text: \")',\n",
       "  'functionreturn = input(\"enter some text: \")',\n",
       "  'functionreturn',\n",
       "  'def myfunction():\\n    pass',\n",
       "  'myfunction',\n",
       "  'myfunction()',\n",
       "  'help(myfunction)',\n",
       "  'help(print)',\n",
       "  'def myfunction():\\n    \"\"\"\\n    Help info on myfunction.\\n    Currently, no inputs defined, no return.\\n    \"\"\"\\n    pass',\n",
       "  'help(myfunction',\n",
       "  'help(myfunction)',\n",
       "  'def mysquare(input_number):\\n    squared_number = input_number**2\\n    return squared_number',\n",
       "  'mysquare(2)',\n",
       "  'functionoutput = mysquare(2)',\n",
       "  'functionoutput',\n",
       "  'functionreturn = mysquare(2)',\n",
       "  'functionreturn',\n",
       "  'functionreturn = mysquare(2)',\n",
       "  'functionreturn',\n",
       "  'mysquare(2.0)',\n",
       "  \"mysquare('2')\",\n",
       "  'def bad_extend_list_function(mylist):\\n    mylist.append(4)',\n",
       "  'def bad_extend_list_function(mylist):\\n    mylist.append(4)\\n    return mylist',\n",
       "  'somelist = [1,2,3,4]\\nnewlist = bad_extend_list_function(somelist)',\n",
       "  'newlist',\n",
       "  'somelist',\n",
       "  'def bad_extend_list_function(mylist):\\n    output_list = mylist.copy()\\n    output_list.append(4)\\n    return mylist',\n",
       "  'def good_extend_list_function(mylist):\\n    output_list = mylist.copy()\\n    output_list.append(4)\\n    return mylist',\n",
       "  'def bad_extend_list_function(mylist):\\n    mylist.append(4)\\n    return mylist',\n",
       "  'def good_extend_list_function(mylist):\\n    output_list = mylist.copy()\\n    output_list.append(4)\\n    return output_list',\n",
       "  'somelist = [1,2,3,4]\\nnewlist = good_extend_list_function(somelist)',\n",
       "  'newlist',\n",
       "  'somelist',\n",
       "  \"x = 5\\n\\ndef mysquare2(x):\\n    x = x**2\\n    return x\\n\\ny = mysquare2(x)\\nprint('x:',x,'\\\\ny',y)\",\n",
       "  'x = 5\\n\\ndef mysquare2(x):\\n    x = x**2\\n    print(\"x (inside mysquares2 function:)\",x)\\n    return x\\n\\ny = mysquare2(x)\\nprint(\\'x:\\',x,\\'\\\\ny\\',y)',\n",
       "  'x = 5\\n\\ndef mysquare2(x):\\n    x = x**2\\n    print(\"x (inside mysquares2 function:)\",x)\\n    return x\\n\\ny = mysquare2(x)\\nprint(\"outside function:\")\\nprint(\\'x:\\',x,\\'\\\\ny\\',y)',\n",
       "  'globals()'],\n",
       " 'Out': {8: 'asdf',\n",
       "  10: <function __main__.myfunction()>,\n",
       "  18: 4,\n",
       "  20: 4,\n",
       "  22: 4,\n",
       "  24: 4,\n",
       "  25: 4.0,\n",
       "  30: [1, 2, 3, 4, 4],\n",
       "  31: [1, 2, 3, 4, 4],\n",
       "  37: [1, 2, 3, 4, 4],\n",
       "  38: [1, 2, 3, 4]},\n",
       " 'get_ipython': <bound method InteractiveShell.get_ipython of <ipykernel.zmqshell.ZMQInteractiveShell object at 0x7fddc5a33c90>>,\n",
       " 'exit': <IPython.core.autocall.ZMQExitAutocall at 0x7fddc6f619d0>,\n",
       " 'quit': <IPython.core.autocall.ZMQExitAutocall at 0x7fddc6f619d0>,\n",
       " '_': [1, 2, 3, 4],\n",
       " '__': [1, 2, 3, 4, 4],\n",
       " '___': [1, 2, 3, 4, 4],\n",
       " '_i': 'x = 5\\n\\ndef mysquare2(x):\\n    x = x**2\\n    print(\"x (inside mysquares2 function:)\",x)\\n    return x\\n\\ny = mysquare2(x)\\nprint(\"outside function:\")\\nprint(\\'x:\\',x,\\'\\\\ny\\',y)',\n",
       " '_ii': 'x = 5\\n\\ndef mysquare2(x):\\n    x = x**2\\n    print(\"x (inside mysquares2 function:)\",x)\\n    return x\\n\\ny = mysquare2(x)\\nprint(\\'x:\\',x,\\'\\\\ny\\',y)',\n",
       " '_iii': \"x = 5\\n\\ndef mysquare2(x):\\n    x = x**2\\n    return x\\n\\ny = mysquare2(x)\\nprint('x:',x,'\\\\ny',y)\",\n",
       " '_i1': 'print(\"hello world\")',\n",
       " '_i2': 'print(\"hello world\",end=\\',\\')',\n",
       " '_i3': 'functionreturn = print(\"hello world\")',\n",
       " 'functionreturn': 4,\n",
       " '_i4': 'functionreturn',\n",
       " '_i5': 'print(\"hello world\") input(\"enter some text: \")',\n",
       " '_i6': 'print(\"hello world\") = input(\"enter some text: \")',\n",
       " '_i7': 'functionreturn = input(\"enter some text: \")',\n",
       " '_i8': 'functionreturn',\n",
       " '_8': 'asdf',\n",
       " '_i9': 'def myfunction():\\n    pass',\n",
       " 'myfunction': <function __main__.myfunction()>,\n",
       " '_i10': 'myfunction',\n",
       " '_10': <function __main__.myfunction()>,\n",
       " '_i11': 'myfunction()',\n",
       " '_i12': 'help(myfunction)',\n",
       " '_i13': 'help(print)',\n",
       " '_i14': 'def myfunction():\\n    \"\"\"\\n    Help info on myfunction.\\n    Currently, no inputs defined, no return.\\n    \"\"\"\\n    pass',\n",
       " '_i15': 'help(myfunction',\n",
       " '_i16': 'help(myfunction)',\n",
       " '_i17': 'def mysquare(input_number):\\n    squared_number = input_number**2\\n    return squared_number',\n",
       " 'mysquare': <function __main__.mysquare(input_number)>,\n",
       " '_i18': 'mysquare(2)',\n",
       " '_18': 4,\n",
       " '_i19': 'functionoutput = mysquare(2)',\n",
       " 'functionoutput': 4,\n",
       " '_i20': 'functionoutput',\n",
       " '_20': 4,\n",
       " '_i21': 'functionreturn = mysquare(2)',\n",
       " '_i22': 'functionreturn',\n",
       " '_22': 4,\n",
       " '_i23': 'functionreturn = mysquare(2)',\n",
       " '_i24': 'functionreturn',\n",
       " '_24': 4,\n",
       " '_i25': 'mysquare(2.0)',\n",
       " '_25': 4.0,\n",
       " '_i26': \"mysquare('2')\",\n",
       " '_i27': 'def bad_extend_list_function(mylist):\\n    mylist.append(4)',\n",
       " 'bad_extend_list_function': <function __main__.bad_extend_list_function(mylist)>,\n",
       " '_i28': 'def bad_extend_list_function(mylist):\\n    mylist.append(4)\\n    return mylist',\n",
       " '_i29': 'somelist = [1,2,3,4]\\nnewlist = bad_extend_list_function(somelist)',\n",
       " 'somelist': [1, 2, 3, 4],\n",
       " 'newlist': [1, 2, 3, 4, 4],\n",
       " '_i30': 'newlist',\n",
       " '_30': [1, 2, 3, 4, 4],\n",
       " '_i31': 'somelist',\n",
       " '_31': [1, 2, 3, 4, 4],\n",
       " '_i32': 'def bad_extend_list_function(mylist):\\n    output_list = mylist.copy()\\n    output_list.append(4)\\n    return mylist',\n",
       " '_i33': 'def good_extend_list_function(mylist):\\n    output_list = mylist.copy()\\n    output_list.append(4)\\n    return mylist',\n",
       " 'good_extend_list_function': <function __main__.good_extend_list_function(mylist)>,\n",
       " '_i34': 'def bad_extend_list_function(mylist):\\n    mylist.append(4)\\n    return mylist',\n",
       " '_i35': 'def good_extend_list_function(mylist):\\n    output_list = mylist.copy()\\n    output_list.append(4)\\n    return output_list',\n",
       " '_i36': 'somelist = [1,2,3,4]\\nnewlist = good_extend_list_function(somelist)',\n",
       " '_i37': 'newlist',\n",
       " '_37': [1, 2, 3, 4, 4],\n",
       " '_i38': 'somelist',\n",
       " '_38': [1, 2, 3, 4],\n",
       " '_i39': \"x = 5\\n\\ndef mysquare2(x):\\n    x = x**2\\n    return x\\n\\ny = mysquare2(x)\\nprint('x:',x,'\\\\ny',y)\",\n",
       " 'x': 5,\n",
       " 'mysquare2': <function __main__.mysquare2(x)>,\n",
       " 'y': 25,\n",
       " '_i40': 'x = 5\\n\\ndef mysquare2(x):\\n    x = x**2\\n    print(\"x (inside mysquares2 function:)\",x)\\n    return x\\n\\ny = mysquare2(x)\\nprint(\\'x:\\',x,\\'\\\\ny\\',y)',\n",
       " '_i41': 'x = 5\\n\\ndef mysquare2(x):\\n    x = x**2\\n    print(\"x (inside mysquares2 function:)\",x)\\n    return x\\n\\ny = mysquare2(x)\\nprint(\"outside function:\")\\nprint(\\'x:\\',x,\\'\\\\ny\\',y)',\n",
       " '_i42': 'globals()'}"
      ]
     },
     "execution_count": 42,
     "metadata": {},
     "output_type": "execute_result"
    }
   ],
   "source": [
    "globals()"
   ]
  },
  {
   "cell_type": "code",
   "execution_count": 45,
   "metadata": {},
   "outputs": [
    {
     "name": "stdout",
     "output_type": "stream",
     "text": [
      "inside function:\n",
      "{'x': 25}\n",
      "\n",
      "\n",
      "outside function:\n",
      "{'__name__': '__main__', '__doc__': 'Automatically created module for IPython interactive environment', '__package__': None, '__loader__': None, '__spec__': None, '__builtin__': <module 'builtins' (built-in)>, '__builtins__': <module 'builtins' (built-in)>, '_ih': ['', 'print(\"hello world\")', 'print(\"hello world\",end=\\',\\')', 'functionreturn = print(\"hello world\")', 'functionreturn', 'print(\"hello world\") input(\"enter some text: \")', 'print(\"hello world\") = input(\"enter some text: \")', 'functionreturn = input(\"enter some text: \")', 'functionreturn', 'def myfunction():\\n    pass', 'myfunction', 'myfunction()', 'help(myfunction)', 'help(print)', 'def myfunction():\\n    \"\"\"\\n    Help info on myfunction.\\n    Currently, no inputs defined, no return.\\n    \"\"\"\\n    pass', 'help(myfunction', 'help(myfunction)', 'def mysquare(input_number):\\n    squared_number = input_number**2\\n    return squared_number', 'mysquare(2)', 'functionoutput = mysquare(2)', 'functionoutput', 'functionreturn = mysquare(2)', 'functionreturn', 'functionreturn = mysquare(2)', 'functionreturn', 'mysquare(2.0)', \"mysquare('2')\", 'def bad_extend_list_function(mylist):\\n    mylist.append(4)', 'def bad_extend_list_function(mylist):\\n    mylist.append(4)\\n    return mylist', 'somelist = [1,2,3,4]\\nnewlist = bad_extend_list_function(somelist)', 'newlist', 'somelist', 'def bad_extend_list_function(mylist):\\n    output_list = mylist.copy()\\n    output_list.append(4)\\n    return mylist', 'def good_extend_list_function(mylist):\\n    output_list = mylist.copy()\\n    output_list.append(4)\\n    return mylist', 'def bad_extend_list_function(mylist):\\n    mylist.append(4)\\n    return mylist', 'def good_extend_list_function(mylist):\\n    output_list = mylist.copy()\\n    output_list.append(4)\\n    return output_list', 'somelist = [1,2,3,4]\\nnewlist = good_extend_list_function(somelist)', 'newlist', 'somelist', \"x = 5\\n\\ndef mysquare2(x):\\n    x = x**2\\n    return x\\n\\ny = mysquare2(x)\\nprint('x:',x,'\\\\ny',y)\", 'x = 5\\n\\ndef mysquare2(x):\\n    x = x**2\\n    print(\"x (inside mysquares2 function:)\",x)\\n    return x\\n\\ny = mysquare2(x)\\nprint(\\'x:\\',x,\\'\\\\ny\\',y)', 'x = 5\\n\\ndef mysquare2(x):\\n    x = x**2\\n    print(\"x (inside mysquares2 function:)\",x)\\n    return x\\n\\ny = mysquare2(x)\\nprint(\"outside function:\")\\nprint(\\'x:\\',x,\\'\\\\ny\\',y)', 'globals()', 'x = 5\\n\\ndef mysquare2(x):\\n    x = x**2\\n    print(\"inside function:\")\\n    print(locals())\\n    return x\\n\\ny = mysquare2(x)\\nprint(\"outside function:\")\\nprint(locals())', 'x = 5\\n\\ndef mysquare2(x):\\n    x = x**2\\n    print(\"inside function:\")\\n    print(locals())\\n    return x\\n\\ny = mysquare2(x)\\nprint(\\\\n\\\\n\"outside function:\")\\nprint(locals())', 'x = 5\\n\\ndef mysquare2(x):\\n    x = x**2\\n    print(\"inside function:\")\\n    print(locals())\\n    return x\\n\\ny = mysquare2(x)\\nprint(\"\\\\n\\\\noutside function:\")\\nprint(locals())'], '_oh': {8: 'asdf', 10: <function myfunction at 0x7fddc86523b0>, 18: 4, 20: 4, 22: 4, 24: 4, 25: 4.0, 30: [1, 2, 3, 4, 4], 31: [1, 2, 3, 4, 4], 37: [1, 2, 3, 4, 4], 38: [1, 2, 3, 4], 42: {...}}, '_dh': ['/Users/denisvrdoljak/Downloads/intro_python_notes_BAH'], 'In': ['', 'print(\"hello world\")', 'print(\"hello world\",end=\\',\\')', 'functionreturn = print(\"hello world\")', 'functionreturn', 'print(\"hello world\") input(\"enter some text: \")', 'print(\"hello world\") = input(\"enter some text: \")', 'functionreturn = input(\"enter some text: \")', 'functionreturn', 'def myfunction():\\n    pass', 'myfunction', 'myfunction()', 'help(myfunction)', 'help(print)', 'def myfunction():\\n    \"\"\"\\n    Help info on myfunction.\\n    Currently, no inputs defined, no return.\\n    \"\"\"\\n    pass', 'help(myfunction', 'help(myfunction)', 'def mysquare(input_number):\\n    squared_number = input_number**2\\n    return squared_number', 'mysquare(2)', 'functionoutput = mysquare(2)', 'functionoutput', 'functionreturn = mysquare(2)', 'functionreturn', 'functionreturn = mysquare(2)', 'functionreturn', 'mysquare(2.0)', \"mysquare('2')\", 'def bad_extend_list_function(mylist):\\n    mylist.append(4)', 'def bad_extend_list_function(mylist):\\n    mylist.append(4)\\n    return mylist', 'somelist = [1,2,3,4]\\nnewlist = bad_extend_list_function(somelist)', 'newlist', 'somelist', 'def bad_extend_list_function(mylist):\\n    output_list = mylist.copy()\\n    output_list.append(4)\\n    return mylist', 'def good_extend_list_function(mylist):\\n    output_list = mylist.copy()\\n    output_list.append(4)\\n    return mylist', 'def bad_extend_list_function(mylist):\\n    mylist.append(4)\\n    return mylist', 'def good_extend_list_function(mylist):\\n    output_list = mylist.copy()\\n    output_list.append(4)\\n    return output_list', 'somelist = [1,2,3,4]\\nnewlist = good_extend_list_function(somelist)', 'newlist', 'somelist', \"x = 5\\n\\ndef mysquare2(x):\\n    x = x**2\\n    return x\\n\\ny = mysquare2(x)\\nprint('x:',x,'\\\\ny',y)\", 'x = 5\\n\\ndef mysquare2(x):\\n    x = x**2\\n    print(\"x (inside mysquares2 function:)\",x)\\n    return x\\n\\ny = mysquare2(x)\\nprint(\\'x:\\',x,\\'\\\\ny\\',y)', 'x = 5\\n\\ndef mysquare2(x):\\n    x = x**2\\n    print(\"x (inside mysquares2 function:)\",x)\\n    return x\\n\\ny = mysquare2(x)\\nprint(\"outside function:\")\\nprint(\\'x:\\',x,\\'\\\\ny\\',y)', 'globals()', 'x = 5\\n\\ndef mysquare2(x):\\n    x = x**2\\n    print(\"inside function:\")\\n    print(locals())\\n    return x\\n\\ny = mysquare2(x)\\nprint(\"outside function:\")\\nprint(locals())', 'x = 5\\n\\ndef mysquare2(x):\\n    x = x**2\\n    print(\"inside function:\")\\n    print(locals())\\n    return x\\n\\ny = mysquare2(x)\\nprint(\\\\n\\\\n\"outside function:\")\\nprint(locals())', 'x = 5\\n\\ndef mysquare2(x):\\n    x = x**2\\n    print(\"inside function:\")\\n    print(locals())\\n    return x\\n\\ny = mysquare2(x)\\nprint(\"\\\\n\\\\noutside function:\")\\nprint(locals())'], 'Out': {8: 'asdf', 10: <function myfunction at 0x7fddc86523b0>, 18: 4, 20: 4, 22: 4, 24: 4, 25: 4.0, 30: [1, 2, 3, 4, 4], 31: [1, 2, 3, 4, 4], 37: [1, 2, 3, 4, 4], 38: [1, 2, 3, 4], 42: {...}}, 'get_ipython': <bound method InteractiveShell.get_ipython of <ipykernel.zmqshell.ZMQInteractiveShell object at 0x7fddc5a33c90>>, 'exit': <IPython.core.autocall.ZMQExitAutocall object at 0x7fddc6f619d0>, 'quit': <IPython.core.autocall.ZMQExitAutocall object at 0x7fddc6f619d0>, '_': {...}, '__': [1, 2, 3, 4], '___': [1, 2, 3, 4, 4], '_i': 'x = 5\\n\\ndef mysquare2(x):\\n    x = x**2\\n    print(\"inside function:\")\\n    print(locals())\\n    return x\\n\\ny = mysquare2(x)\\nprint(\\\\n\\\\n\"outside function:\")\\nprint(locals())', '_ii': 'x = 5\\n\\ndef mysquare2(x):\\n    x = x**2\\n    print(\"inside function:\")\\n    print(locals())\\n    return x\\n\\ny = mysquare2(x)\\nprint(\"outside function:\")\\nprint(locals())', '_iii': 'globals()', '_i1': 'print(\"hello world\")', '_i2': 'print(\"hello world\",end=\\',\\')', '_i3': 'functionreturn = print(\"hello world\")', 'functionreturn': 4, '_i4': 'functionreturn', '_i5': 'print(\"hello world\") input(\"enter some text: \")', '_i6': 'print(\"hello world\") = input(\"enter some text: \")', '_i7': 'functionreturn = input(\"enter some text: \")', '_i8': 'functionreturn', '_8': 'asdf', '_i9': 'def myfunction():\\n    pass', 'myfunction': <function myfunction at 0x7fddc886d830>, '_i10': 'myfunction', '_10': <function myfunction at 0x7fddc86523b0>, '_i11': 'myfunction()', '_i12': 'help(myfunction)', '_i13': 'help(print)', '_i14': 'def myfunction():\\n    \"\"\"\\n    Help info on myfunction.\\n    Currently, no inputs defined, no return.\\n    \"\"\"\\n    pass', '_i15': 'help(myfunction', '_i16': 'help(myfunction)', '_i17': 'def mysquare(input_number):\\n    squared_number = input_number**2\\n    return squared_number', 'mysquare': <function mysquare at 0x7fddc886d9e0>, '_i18': 'mysquare(2)', '_18': 4, '_i19': 'functionoutput = mysquare(2)', 'functionoutput': 4, '_i20': 'functionoutput', '_20': 4, '_i21': 'functionreturn = mysquare(2)', '_i22': 'functionreturn', '_22': 4, '_i23': 'functionreturn = mysquare(2)', '_i24': 'functionreturn', '_24': 4, '_i25': 'mysquare(2.0)', '_25': 4.0, '_i26': \"mysquare('2')\", '_i27': 'def bad_extend_list_function(mylist):\\n    mylist.append(4)', 'bad_extend_list_function': <function bad_extend_list_function at 0x7fddc86520e0>, '_i28': 'def bad_extend_list_function(mylist):\\n    mylist.append(4)\\n    return mylist', '_i29': 'somelist = [1,2,3,4]\\nnewlist = bad_extend_list_function(somelist)', 'somelist': [1, 2, 3, 4], 'newlist': [1, 2, 3, 4, 4], '_i30': 'newlist', '_30': [1, 2, 3, 4, 4], '_i31': 'somelist', '_31': [1, 2, 3, 4, 4], '_i32': 'def bad_extend_list_function(mylist):\\n    output_list = mylist.copy()\\n    output_list.append(4)\\n    return mylist', '_i33': 'def good_extend_list_function(mylist):\\n    output_list = mylist.copy()\\n    output_list.append(4)\\n    return mylist', 'good_extend_list_function': <function good_extend_list_function at 0x7fddc86527a0>, '_i34': 'def bad_extend_list_function(mylist):\\n    mylist.append(4)\\n    return mylist', '_i35': 'def good_extend_list_function(mylist):\\n    output_list = mylist.copy()\\n    output_list.append(4)\\n    return output_list', '_i36': 'somelist = [1,2,3,4]\\nnewlist = good_extend_list_function(somelist)', '_i37': 'newlist', '_37': [1, 2, 3, 4, 4], '_i38': 'somelist', '_38': [1, 2, 3, 4], '_i39': \"x = 5\\n\\ndef mysquare2(x):\\n    x = x**2\\n    return x\\n\\ny = mysquare2(x)\\nprint('x:',x,'\\\\ny',y)\", 'x': 5, 'mysquare2': <function mysquare2 at 0x7fddc8e6c050>, 'y': 25, '_i40': 'x = 5\\n\\ndef mysquare2(x):\\n    x = x**2\\n    print(\"x (inside mysquares2 function:)\",x)\\n    return x\\n\\ny = mysquare2(x)\\nprint(\\'x:\\',x,\\'\\\\ny\\',y)', '_i41': 'x = 5\\n\\ndef mysquare2(x):\\n    x = x**2\\n    print(\"x (inside mysquares2 function:)\",x)\\n    return x\\n\\ny = mysquare2(x)\\nprint(\"outside function:\")\\nprint(\\'x:\\',x,\\'\\\\ny\\',y)', '_i42': 'globals()', '_42': {...}, '_i43': 'x = 5\\n\\ndef mysquare2(x):\\n    x = x**2\\n    print(\"inside function:\")\\n    print(locals())\\n    return x\\n\\ny = mysquare2(x)\\nprint(\"outside function:\")\\nprint(locals())', '_i44': 'x = 5\\n\\ndef mysquare2(x):\\n    x = x**2\\n    print(\"inside function:\")\\n    print(locals())\\n    return x\\n\\ny = mysquare2(x)\\nprint(\\\\n\\\\n\"outside function:\")\\nprint(locals())', '_i45': 'x = 5\\n\\ndef mysquare2(x):\\n    x = x**2\\n    print(\"inside function:\")\\n    print(locals())\\n    return x\\n\\ny = mysquare2(x)\\nprint(\"\\\\n\\\\noutside function:\")\\nprint(locals())'}\n"
     ]
    }
   ],
   "source": [
    "x = 5\n",
    "\n",
    "def mysquare2(x):\n",
    "    x = x**2\n",
    "    print(\"inside function:\")\n",
    "    print(locals())\n",
    "    return x\n",
    "\n",
    "y = mysquare2(x)\n",
    "print(\"\\n\\noutside function:\")\n",
    "print(locals())"
   ]
  },
  {
   "cell_type": "code",
   "execution_count": 47,
   "metadata": {},
   "outputs": [
    {
     "ename": "TypeError",
     "evalue": "mysquare2() missing 1 required positional argument: 'x'",
     "output_type": "error",
     "traceback": [
      "\u001b[0;31m---------------------------------------------------------------------------\u001b[0m",
      "\u001b[0;31mTypeError\u001b[0m                                 Traceback (most recent call last)",
      "\u001b[0;32m<ipython-input-47-4b773b902d18>\u001b[0m in \u001b[0;36m<module>\u001b[0;34m\u001b[0m\n\u001b[0;32m----> 1\u001b[0;31m \u001b[0mmysquare2\u001b[0m\u001b[0;34m(\u001b[0m\u001b[0;34m)\u001b[0m\u001b[0;34m\u001b[0m\u001b[0;34m\u001b[0m\u001b[0m\n\u001b[0m",
      "\u001b[0;31mTypeError\u001b[0m: mysquare2() missing 1 required positional argument: 'x'"
     ]
    }
   ],
   "source": [
    "mysquare2()"
   ]
  },
  {
   "cell_type": "code",
   "execution_count": 48,
   "metadata": {},
   "outputs": [
    {
     "data": {
      "text/plain": [
       "0"
      ]
     },
     "execution_count": 48,
     "metadata": {},
     "output_type": "execute_result"
    }
   ],
   "source": [
    "def mysquare3(x=0):\n",
    "    return x**2\n",
    "\n",
    "mysquare3()"
   ]
  },
  {
   "cell_type": "code",
   "execution_count": 50,
   "metadata": {},
   "outputs": [
    {
     "data": {
      "text/plain": [
       "0"
      ]
     },
     "execution_count": 50,
     "metadata": {},
     "output_type": "execute_result"
    }
   ],
   "source": [
    "# sometimes seen like this (below) in class functions (aka, methods)\n",
    "def mysquare3(x=None):\n",
    "    if x is None:\n",
    "        x = 0\n",
    "    return x**2\n",
    "\n",
    "mysquare3()"
   ]
  },
  {
   "cell_type": "code",
   "execution_count": 51,
   "metadata": {},
   "outputs": [],
   "source": [
    "def power_up(x,y):\n",
    "    return x**y"
   ]
  },
  {
   "cell_type": "code",
   "execution_count": 52,
   "metadata": {},
   "outputs": [
    {
     "data": {
      "text/plain": [
       "8"
      ]
     },
     "execution_count": 52,
     "metadata": {},
     "output_type": "execute_result"
    }
   ],
   "source": [
    "power_up(2,3)"
   ]
  },
  {
   "cell_type": "code",
   "execution_count": 53,
   "metadata": {},
   "outputs": [
    {
     "data": {
      "text/plain": [
       "8"
      ]
     },
     "execution_count": 53,
     "metadata": {},
     "output_type": "execute_result"
    }
   ],
   "source": [
    "power_up(x=2,y=3)"
   ]
  },
  {
   "cell_type": "code",
   "execution_count": 54,
   "metadata": {},
   "outputs": [
    {
     "data": {
      "text/plain": [
       "8"
      ]
     },
     "execution_count": 54,
     "metadata": {},
     "output_type": "execute_result"
    }
   ],
   "source": [
    "power_up(y=3,x=2)"
   ]
  },
  {
   "cell_type": "code",
   "execution_count": 55,
   "metadata": {},
   "outputs": [
    {
     "name": "stdout",
     "output_type": "stream",
     "text": [
      "some text,"
     ]
    }
   ],
   "source": [
    "print(\"some text\",end=',')"
   ]
  },
  {
   "cell_type": "code",
   "execution_count": 57,
   "metadata": {},
   "outputs": [
    {
     "data": {
      "text/plain": [
       "'2 squared is 4'"
      ]
     },
     "execution_count": 57,
     "metadata": {},
     "output_type": "execute_result"
    }
   ],
   "source": [
    "\"{x} squared is {squared}\".format(x=2,squared=4)"
   ]
  },
  {
   "cell_type": "code",
   "execution_count": 58,
   "metadata": {},
   "outputs": [
    {
     "data": {
      "text/plain": [
       "'2 squared is 4'"
      ]
     },
     "execution_count": 58,
     "metadata": {},
     "output_type": "execute_result"
    }
   ],
   "source": [
    "\"{x} squared is {squared}\".format(squared=4,x=2)"
   ]
  },
  {
   "cell_type": "code",
   "execution_count": 59,
   "metadata": {},
   "outputs": [
    {
     "data": {
      "text/plain": [
       "4"
      ]
     },
     "execution_count": 59,
     "metadata": {},
     "output_type": "execute_result"
    }
   ],
   "source": [
    "def power_up(x,y=2):\n",
    "    return x**y\n",
    "power_up(2)"
   ]
  },
  {
   "cell_type": "code",
   "execution_count": 60,
   "metadata": {},
   "outputs": [
    {
     "data": {
      "text/plain": [
       "4"
      ]
     },
     "execution_count": 60,
     "metadata": {},
     "output_type": "execute_result"
    }
   ],
   "source": [
    "def power_up(x,y=2):\n",
    "    return x**y\n",
    "power_up(x=2)"
   ]
  },
  {
   "cell_type": "code",
   "execution_count": 61,
   "metadata": {},
   "outputs": [
    {
     "ename": "SyntaxError",
     "evalue": "non-default argument follows default argument (<ipython-input-61-f5d71fd364be>, line 1)",
     "output_type": "error",
     "traceback": [
      "\u001b[0;36m  File \u001b[0;32m\"<ipython-input-61-f5d71fd364be>\"\u001b[0;36m, line \u001b[0;32m1\u001b[0m\n\u001b[0;31m    def power_up(y=2,x):\u001b[0m\n\u001b[0m                ^\u001b[0m\n\u001b[0;31mSyntaxError\u001b[0m\u001b[0;31m:\u001b[0m non-default argument follows default argument\n"
     ]
    }
   ],
   "source": [
    "def power_up(y=2,x):\n",
    "    return x**y\n",
    "power_up(x=2)"
   ]
  },
  {
   "cell_type": "code",
   "execution_count": 62,
   "metadata": {},
   "outputs": [
    {
     "data": {
      "text/plain": [
       "24"
      ]
     },
     "execution_count": 62,
     "metadata": {},
     "output_type": "execute_result"
    }
   ],
   "source": [
    "# recursion example\n",
    "# 4! = 4 * 3 * 2 * 1\n",
    "# 0! = 1\n",
    "\n",
    "def myfactorial(x):\n",
    "    if x == 0:\n",
    "        return 1\n",
    "    return x * myfactorial(x-1)\n",
    "myfactorial(4)"
   ]
  },
  {
   "cell_type": "code",
   "execution_count": 65,
   "metadata": {},
   "outputs": [
    {
     "name": "stdout",
     "output_type": "stream",
     "text": [
      "Help on function myfactorial in module __main__:\n",
      "\n",
      "myfactorial(x)\n",
      "\n"
     ]
    }
   ],
   "source": [
    "help(myfactorial)"
   ]
  },
  {
   "cell_type": "markdown",
   "metadata": {},
   "source": [
    "### Lambda Functions"
   ]
  },
  {
   "cell_type": "code",
   "execution_count": null,
   "metadata": {},
   "outputs": [],
   "source": [
    "lambda input_variable:output_expression"
   ]
  },
  {
   "cell_type": "code",
   "execution_count": 67,
   "metadata": {},
   "outputs": [],
   "source": [
    "def mysquare3(x):\n",
    "    return x**2\n"
   ]
  },
  {
   "cell_type": "code",
   "execution_count": 68,
   "metadata": {},
   "outputs": [
    {
     "data": {
      "text/plain": [
       "<function __main__.<lambda>(x)>"
      ]
     },
     "execution_count": 68,
     "metadata": {},
     "output_type": "execute_result"
    }
   ],
   "source": [
    "lambda x:x**2"
   ]
  },
  {
   "cell_type": "code",
   "execution_count": 70,
   "metadata": {},
   "outputs": [],
   "source": [
    "mysquare_lambda = lambda x:x**2"
   ]
  },
  {
   "cell_type": "code",
   "execution_count": 71,
   "metadata": {},
   "outputs": [
    {
     "data": {
      "text/plain": [
       "<function __main__.<lambda>(x)>"
      ]
     },
     "execution_count": 71,
     "metadata": {},
     "output_type": "execute_result"
    }
   ],
   "source": [
    "mysquare_lambda"
   ]
  },
  {
   "cell_type": "code",
   "execution_count": 72,
   "metadata": {},
   "outputs": [
    {
     "data": {
      "text/plain": [
       "9"
      ]
     },
     "execution_count": 72,
     "metadata": {},
     "output_type": "execute_result"
    }
   ],
   "source": [
    "mysquare_lambda(3)"
   ]
  },
  {
   "cell_type": "code",
   "execution_count": 73,
   "metadata": {},
   "outputs": [
    {
     "data": {
      "text/plain": [
       "[1, 2, 3, 4]"
      ]
     },
     "execution_count": 73,
     "metadata": {},
     "output_type": "execute_result"
    }
   ],
   "source": [
    "mylist = [1,4,3,2]\n",
    "sorted(mylist)"
   ]
  },
  {
   "cell_type": "code",
   "execution_count": 74,
   "metadata": {},
   "outputs": [
    {
     "data": {
      "text/plain": [
       "[1, 4, 3, 2]"
      ]
     },
     "execution_count": 74,
     "metadata": {},
     "output_type": "execute_result"
    }
   ],
   "source": [
    "mylist"
   ]
  },
  {
   "cell_type": "code",
   "execution_count": 1,
   "metadata": {},
   "outputs": [
    {
     "ename": "NameError",
     "evalue": "name 'numpy' is not defined",
     "output_type": "error",
     "traceback": [
      "\u001b[0;31m---------------------------------------------------------------------------\u001b[0m",
      "\u001b[0;31mNameError\u001b[0m                                 Traceback (most recent call last)",
      "\u001b[0;32m<ipython-input-1-90c0d13c062b>\u001b[0m in \u001b[0;36m<module>\u001b[0;34m\u001b[0m\n\u001b[0;32m----> 1\u001b[0;31m \u001b[0mnumpy\u001b[0m\u001b[0;34m.\u001b[0m\u001b[0msum\u001b[0m\u001b[0;34m\u001b[0m\u001b[0;34m\u001b[0m\u001b[0m\n\u001b[0m",
      "\u001b[0;31mNameError\u001b[0m: name 'numpy' is not defined"
     ]
    }
   ],
   "source": [
    "numpy.sum"
   ]
  },
  {
   "cell_type": "code",
   "execution_count": 2,
   "metadata": {},
   "outputs": [],
   "source": [
    "import numpy"
   ]
  },
  {
   "cell_type": "code",
   "execution_count": 3,
   "metadata": {},
   "outputs": [
    {
     "data": {
      "text/plain": [
       "<function numpy.sum(a, axis=None, dtype=None, out=None, keepdims=<no value>, initial=<no value>, where=<no value>)>"
      ]
     },
     "execution_count": 3,
     "metadata": {},
     "output_type": "execute_result"
    }
   ],
   "source": [
    "numpy.sum"
   ]
  },
  {
   "cell_type": "code",
   "execution_count": 4,
   "metadata": {},
   "outputs": [],
   "source": [
    "import numpy as np"
   ]
  },
  {
   "cell_type": "code",
   "execution_count": 5,
   "metadata": {},
   "outputs": [
    {
     "data": {
      "text/plain": [
       "<function numpy.sum(a, axis=None, dtype=None, out=None, keepdims=<no value>, initial=<no value>, where=<no value>)>"
      ]
     },
     "execution_count": 5,
     "metadata": {},
     "output_type": "execute_result"
    }
   ],
   "source": [
    "np.sum"
   ]
  },
  {
   "cell_type": "code",
   "execution_count": 6,
   "metadata": {},
   "outputs": [],
   "source": [
    "from numpy import sum as npsum"
   ]
  },
  {
   "cell_type": "code",
   "execution_count": 7,
   "metadata": {},
   "outputs": [
    {
     "data": {
      "text/plain": [
       "<function sum(iterable, start=0, /)>"
      ]
     },
     "execution_count": 7,
     "metadata": {},
     "output_type": "execute_result"
    }
   ],
   "source": [
    "sum"
   ]
  },
  {
   "cell_type": "code",
   "execution_count": 8,
   "metadata": {},
   "outputs": [
    {
     "data": {
      "text/plain": [
       "<function numpy.sum(a, axis=None, dtype=None, out=None, keepdims=<no value>, initial=<no value>, where=<no value>)>"
      ]
     },
     "execution_count": 8,
     "metadata": {},
     "output_type": "execute_result"
    }
   ],
   "source": [
    "npsum"
   ]
  },
  {
   "cell_type": "code",
   "execution_count": 9,
   "metadata": {},
   "outputs": [],
   "source": [
    "from numpy import *"
   ]
  },
  {
   "cell_type": "code",
   "execution_count": 10,
   "metadata": {},
   "outputs": [
    {
     "data": {
      "text/plain": [
       "<function numpy.sum(a, axis=None, dtype=None, out=None, keepdims=<no value>, initial=<no value>, where=<no value>)>"
      ]
     },
     "execution_count": 10,
     "metadata": {},
     "output_type": "execute_result"
    }
   ],
   "source": [
    "sum"
   ]
  },
  {
   "cell_type": "code",
   "execution_count": 11,
   "metadata": {},
   "outputs": [
    {
     "ename": "ModuleNotFoundError",
     "evalue": "No module named 'h2o'",
     "output_type": "error",
     "traceback": [
      "\u001b[0;31m---------------------------------------------------------------------------\u001b[0m",
      "\u001b[0;31mModuleNotFoundError\u001b[0m                       Traceback (most recent call last)",
      "\u001b[0;32m<ipython-input-11-accdebc0c7de>\u001b[0m in \u001b[0;36m<module>\u001b[0;34m\u001b[0m\n\u001b[0;32m----> 1\u001b[0;31m \u001b[0;32mimport\u001b[0m \u001b[0mh2o\u001b[0m\u001b[0;34m\u001b[0m\u001b[0;34m\u001b[0m\u001b[0m\n\u001b[0m",
      "\u001b[0;31mModuleNotFoundError\u001b[0m: No module named 'h2o'"
     ]
    }
   ],
   "source": [
    "import h2o"
   ]
  },
  {
   "cell_type": "code",
   "execution_count": null,
   "metadata": {},
   "outputs": [],
   "source": [
    "def something():\n",
    "    pass\n",
    "dep something2():\n",
    "    pass\n",
    "\n",
    "\n",
    "if __name__ == '__main__':\n",
    "    #main code block\n",
    "    pass"
   ]
  },
  {
   "cell_type": "markdown",
   "metadata": {},
   "source": [
    "### Copy, Deep Copy"
   ]
  },
  {
   "cell_type": "code",
   "execution_count": 12,
   "metadata": {},
   "outputs": [],
   "source": [
    "x = 5**78\n",
    "y = 5**78"
   ]
  },
  {
   "cell_type": "code",
   "execution_count": 14,
   "metadata": {},
   "outputs": [
    {
     "data": {
      "text/plain": [
       "True"
      ]
     },
     "execution_count": 14,
     "metadata": {},
     "output_type": "execute_result"
    }
   ],
   "source": [
    "x == y"
   ]
  },
  {
   "cell_type": "code",
   "execution_count": 15,
   "metadata": {},
   "outputs": [
    {
     "data": {
      "text/plain": [
       "False"
      ]
     },
     "execution_count": 15,
     "metadata": {},
     "output_type": "execute_result"
    }
   ],
   "source": [
    "x is y"
   ]
  },
  {
   "cell_type": "code",
   "execution_count": 16,
   "metadata": {},
   "outputs": [
    {
     "data": {
      "text/plain": [
       "True"
      ]
     },
     "execution_count": 16,
     "metadata": {},
     "output_type": "execute_result"
    }
   ],
   "source": [
    "None == None"
   ]
  },
  {
   "cell_type": "code",
   "execution_count": 17,
   "metadata": {},
   "outputs": [
    {
     "data": {
      "text/plain": [
       "True"
      ]
     },
     "execution_count": 17,
     "metadata": {},
     "output_type": "execute_result"
    }
   ],
   "source": [
    "None is None"
   ]
  },
  {
   "cell_type": "code",
   "execution_count": 18,
   "metadata": {},
   "outputs": [],
   "source": [
    "x = []\n",
    "y = []"
   ]
  },
  {
   "cell_type": "code",
   "execution_count": 19,
   "metadata": {},
   "outputs": [
    {
     "data": {
      "text/plain": [
       "True"
      ]
     },
     "execution_count": 19,
     "metadata": {},
     "output_type": "execute_result"
    }
   ],
   "source": [
    "x == y"
   ]
  },
  {
   "cell_type": "code",
   "execution_count": 20,
   "metadata": {},
   "outputs": [
    {
     "data": {
      "text/plain": [
       "False"
      ]
     },
     "execution_count": 20,
     "metadata": {},
     "output_type": "execute_result"
    }
   ],
   "source": [
    "x is y"
   ]
  },
  {
   "cell_type": "code",
   "execution_count": 21,
   "metadata": {},
   "outputs": [],
   "source": [
    "x = []\n",
    "y = x"
   ]
  },
  {
   "cell_type": "code",
   "execution_count": 22,
   "metadata": {},
   "outputs": [
    {
     "data": {
      "text/plain": [
       "True"
      ]
     },
     "execution_count": 22,
     "metadata": {},
     "output_type": "execute_result"
    }
   ],
   "source": [
    "x == y"
   ]
  },
  {
   "cell_type": "code",
   "execution_count": 23,
   "metadata": {},
   "outputs": [
    {
     "data": {
      "text/plain": [
       "True"
      ]
     },
     "execution_count": 23,
     "metadata": {},
     "output_type": "execute_result"
    }
   ],
   "source": [
    "x is y"
   ]
  },
  {
   "cell_type": "code",
   "execution_count": 24,
   "metadata": {},
   "outputs": [
    {
     "data": {
      "text/plain": [
       "[1, 2, 3]"
      ]
     },
     "execution_count": 24,
     "metadata": {},
     "output_type": "execute_result"
    }
   ],
   "source": [
    "x.append(1)\n",
    "x.append(2)\n",
    "x.append(3)\n",
    "x"
   ]
  },
  {
   "cell_type": "code",
   "execution_count": 25,
   "metadata": {},
   "outputs": [
    {
     "data": {
      "text/plain": [
       "[1, 2, 3]"
      ]
     },
     "execution_count": 25,
     "metadata": {},
     "output_type": "execute_result"
    }
   ],
   "source": [
    "y"
   ]
  },
  {
   "cell_type": "code",
   "execution_count": 26,
   "metadata": {},
   "outputs": [
    {
     "data": {
      "text/plain": [
       "[1, 2, 3]"
      ]
     },
     "execution_count": 26,
     "metadata": {},
     "output_type": "execute_result"
    }
   ],
   "source": [
    "x = []\n",
    "y = []\n",
    "x.append(1)\n",
    "x.append(2)\n",
    "x.append(3)\n",
    "x"
   ]
  },
  {
   "cell_type": "code",
   "execution_count": 27,
   "metadata": {},
   "outputs": [
    {
     "data": {
      "text/plain": [
       "[]"
      ]
     },
     "execution_count": 27,
     "metadata": {},
     "output_type": "execute_result"
    }
   ],
   "source": [
    "y"
   ]
  },
  {
   "cell_type": "code",
   "execution_count": 28,
   "metadata": {},
   "outputs": [
    {
     "data": {
      "text/plain": [
       "[1, 2, 3]"
      ]
     },
     "execution_count": 28,
     "metadata": {},
     "output_type": "execute_result"
    }
   ],
   "source": [
    "x = []\n",
    "y = x.copy()\n",
    "\n",
    "x.append(1)\n",
    "x.append(2)\n",
    "x.append(3)\n",
    "x"
   ]
  },
  {
   "cell_type": "code",
   "execution_count": 29,
   "metadata": {},
   "outputs": [
    {
     "data": {
      "text/plain": [
       "[]"
      ]
     },
     "execution_count": 29,
     "metadata": {},
     "output_type": "execute_result"
    }
   ],
   "source": [
    "y"
   ]
  },
  {
   "cell_type": "code",
   "execution_count": 30,
   "metadata": {},
   "outputs": [
    {
     "data": {
      "text/plain": [
       "[1, 2, 3]"
      ]
     },
     "execution_count": 30,
     "metadata": {},
     "output_type": "execute_result"
    }
   ],
   "source": [
    "x = []\n",
    "y = x[:]\n",
    "\n",
    "x.append(1)\n",
    "x.append(2)\n",
    "x.append(3)\n",
    "x"
   ]
  },
  {
   "cell_type": "code",
   "execution_count": 31,
   "metadata": {},
   "outputs": [
    {
     "data": {
      "text/plain": [
       "[]"
      ]
     },
     "execution_count": 31,
     "metadata": {},
     "output_type": "execute_result"
    }
   ],
   "source": [
    "y"
   ]
  },
  {
   "cell_type": "code",
   "execution_count": 32,
   "metadata": {},
   "outputs": [],
   "source": [
    "x = [\n",
    "    [],[],[]\n",
    "]\n",
    "y = x.copy()"
   ]
  },
  {
   "cell_type": "code",
   "execution_count": 33,
   "metadata": {},
   "outputs": [
    {
     "data": {
      "text/plain": [
       "False"
      ]
     },
     "execution_count": 33,
     "metadata": {},
     "output_type": "execute_result"
    }
   ],
   "source": [
    "x is y"
   ]
  },
  {
   "cell_type": "code",
   "execution_count": 34,
   "metadata": {},
   "outputs": [],
   "source": [
    "x[0].append(1)\n",
    "x[0].append(2)\n",
    "x[1].append('a')\n",
    "x[1].append('b')"
   ]
  },
  {
   "cell_type": "code",
   "execution_count": 35,
   "metadata": {},
   "outputs": [
    {
     "data": {
      "text/plain": [
       "[[1, 2], ['a', 'b'], []]"
      ]
     },
     "execution_count": 35,
     "metadata": {},
     "output_type": "execute_result"
    }
   ],
   "source": [
    "x"
   ]
  },
  {
   "cell_type": "code",
   "execution_count": 36,
   "metadata": {},
   "outputs": [
    {
     "data": {
      "text/plain": [
       "False"
      ]
     },
     "execution_count": 36,
     "metadata": {},
     "output_type": "execute_result"
    }
   ],
   "source": [
    "x is y"
   ]
  },
  {
   "cell_type": "code",
   "execution_count": 37,
   "metadata": {},
   "outputs": [
    {
     "data": {
      "text/plain": [
       "[[1, 2], ['a', 'b'], []]"
      ]
     },
     "execution_count": 37,
     "metadata": {},
     "output_type": "execute_result"
    }
   ],
   "source": [
    "y"
   ]
  },
  {
   "cell_type": "code",
   "execution_count": 38,
   "metadata": {},
   "outputs": [
    {
     "data": {
      "text/plain": [
       "True"
      ]
     },
     "execution_count": 38,
     "metadata": {},
     "output_type": "execute_result"
    }
   ],
   "source": [
    "x[0] is y[0]"
   ]
  },
  {
   "cell_type": "code",
   "execution_count": 40,
   "metadata": {},
   "outputs": [
    {
     "data": {
      "text/plain": [
       "True"
      ]
     },
     "execution_count": 40,
     "metadata": {},
     "output_type": "execute_result"
    }
   ],
   "source": [
    "x[1] is y[1]"
   ]
  },
  {
   "cell_type": "code",
   "execution_count": 41,
   "metadata": {},
   "outputs": [
    {
     "data": {
      "text/plain": [
       "True"
      ]
     },
     "execution_count": 41,
     "metadata": {},
     "output_type": "execute_result"
    }
   ],
   "source": [
    "x[2] is y[2]"
   ]
  },
  {
   "cell_type": "code",
   "execution_count": 39,
   "metadata": {},
   "outputs": [
    {
     "data": {
      "text/plain": [
       "False"
      ]
     },
     "execution_count": 39,
     "metadata": {},
     "output_type": "execute_result"
    }
   ],
   "source": [
    "x is y"
   ]
  },
  {
   "cell_type": "code",
   "execution_count": 42,
   "metadata": {},
   "outputs": [
    {
     "data": {
      "text/plain": [
       "[1, 2]"
      ]
     },
     "execution_count": 42,
     "metadata": {},
     "output_type": "execute_result"
    }
   ],
   "source": [
    "y[0]"
   ]
  },
  {
   "cell_type": "code",
   "execution_count": 43,
   "metadata": {},
   "outputs": [],
   "source": [
    "from copy import deepcopy"
   ]
  },
  {
   "cell_type": "code",
   "execution_count": 44,
   "metadata": {},
   "outputs": [],
   "source": [
    "x = [\n",
    "    [],[],[]\n",
    "]\n",
    "y = deepcopy(x)"
   ]
  },
  {
   "cell_type": "code",
   "execution_count": 45,
   "metadata": {},
   "outputs": [],
   "source": [
    "x[0].append(1)\n",
    "x[0].append(2)\n",
    "x[1].append('a')\n",
    "x[1].append('b')"
   ]
  },
  {
   "cell_type": "code",
   "execution_count": 46,
   "metadata": {},
   "outputs": [
    {
     "data": {
      "text/plain": [
       "[[1, 2], ['a', 'b'], []]"
      ]
     },
     "execution_count": 46,
     "metadata": {},
     "output_type": "execute_result"
    }
   ],
   "source": [
    "x"
   ]
  },
  {
   "cell_type": "code",
   "execution_count": 47,
   "metadata": {},
   "outputs": [
    {
     "data": {
      "text/plain": [
       "[[], [], []]"
      ]
     },
     "execution_count": 47,
     "metadata": {},
     "output_type": "execute_result"
    }
   ],
   "source": [
    "y"
   ]
  },
  {
   "cell_type": "code",
   "execution_count": 48,
   "metadata": {},
   "outputs": [
    {
     "data": {
      "text/plain": [
       "'abcabcabc'"
      ]
     },
     "execution_count": 48,
     "metadata": {},
     "output_type": "execute_result"
    }
   ],
   "source": [
    "'abc' *3"
   ]
  },
  {
   "cell_type": "code",
   "execution_count": 49,
   "metadata": {},
   "outputs": [
    {
     "data": {
      "text/plain": [
       "[[1], [1], [1]]"
      ]
     },
     "execution_count": 49,
     "metadata": {},
     "output_type": "execute_result"
    }
   ],
   "source": [
    "[[1]] * 3"
   ]
  },
  {
   "cell_type": "code",
   "execution_count": 50,
   "metadata": {},
   "outputs": [
    {
     "data": {
      "text/plain": [
       "True"
      ]
     },
     "execution_count": 50,
     "metadata": {},
     "output_type": "execute_result"
    }
   ],
   "source": [
    "mylist = [[1]] * 3\n",
    "mylist[0] is mylist[0]"
   ]
  },
  {
   "cell_type": "code",
   "execution_count": 52,
   "metadata": {},
   "outputs": [
    {
     "data": {
      "text/plain": [
       "[[], [], [], [], [], [], []]"
      ]
     },
     "execution_count": 52,
     "metadata": {},
     "output_type": "execute_result"
    }
   ],
   "source": [
    "[[]] * 7"
   ]
  },
  {
   "cell_type": "code",
   "execution_count": null,
   "metadata": {},
   "outputs": [],
   "source": [
    "# dataframes are mutable!\n",
    "df2 = df1 # don't do this!"
   ]
  }
 ],
 "metadata": {
  "kernelspec": {
   "display_name": "Python 3",
   "language": "python",
   "name": "python3"
  },
  "language_info": {
   "codemirror_mode": {
    "name": "ipython",
    "version": 3
   },
   "file_extension": ".py",
   "mimetype": "text/x-python",
   "name": "python",
   "nbconvert_exporter": "python",
   "pygments_lexer": "ipython3",
   "version": "3.7.4"
  }
 },
 "nbformat": 4,
 "nbformat_minor": 2
}
