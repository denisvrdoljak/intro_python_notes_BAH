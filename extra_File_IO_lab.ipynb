{
 "cells": [
  {
   "cell_type": "markdown",
   "metadata": {},
   "source": [
    "# File I/O"
   ]
  },
  {
   "cell_type": "markdown",
   "metadata": {},
   "source": [
    "\n",
    "## Writing to a file\n",
    "Create a new file, using a filename that has a timestamp in it (like in the earlier exercise).\n",
    "\n",
    "Write a random floating point decimal to the file. (Use the random library for this.)"
   ]
  },
  {
   "cell_type": "code",
   "execution_count": null,
   "metadata": {},
   "outputs": [],
   "source": []
  },
  {
   "cell_type": "markdown",
   "metadata": {},
   "source": [
    "## Reading from a File\n",
    "\n",
    "Read a list of column names from a file. Replace all dashes with underscores, and print the new list to standard out (on screen).\n",
    "\n",
    "The file contents should have a column name on each line, like this:\n",
    "\n",
    "- id\n",
    "- first-name\n",
    "- last-name\n",
    "- order-number\n",
    "- subtotal\n",
    "- tax\n",
    "- total\n",
    "\n",
    "(but without the bullets)"
   ]
  },
  {
   "cell_type": "markdown",
   "metadata": {},
   "source": [
    "code to create the file for the exercise:"
   ]
  },
  {
   "cell_type": "code",
   "execution_count": 6,
   "metadata": {},
   "outputs": [],
   "source": [
    "filename = \"headers.txt\"\n",
    "colnames = \"\"\"\n",
    "id\n",
    "first-name\n",
    "last-name\n",
    "order-number\n",
    "subtotal\n",
    "tax\n",
    "total\n",
    "\"\"\".strip()\n",
    "\n",
    "with open(filename,'w') as fp:\n",
    "    for colname in colnames.split():\n",
    "        print(colname,file=fp)"
   ]
  },
  {
   "cell_type": "code",
   "execution_count": 7,
   "metadata": {},
   "outputs": [],
   "source": [
    "# your answer below"
   ]
  },
  {
   "cell_type": "code",
   "execution_count": null,
   "metadata": {},
   "outputs": [],
   "source": []
  }
 ],
 "metadata": {
  "kernelspec": {
   "display_name": "Python 3",
   "language": "python",
   "name": "python3"
  },
  "language_info": {
   "codemirror_mode": {
    "name": "ipython",
    "version": 3
   },
   "file_extension": ".py",
   "mimetype": "text/x-python",
   "name": "python",
   "nbconvert_exporter": "python",
   "pygments_lexer": "ipython3",
   "version": "3.7.4"
  }
 },
 "nbformat": 4,
 "nbformat_minor": 2
}
